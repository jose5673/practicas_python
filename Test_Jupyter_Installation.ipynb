{
 "cells": [
  {
   "cell_type": "markdown",
   "id": "1552df77",
   "metadata": {},
   "source": [
    "# 🐍 Verificación de Entorno Python con Jupyter Notebook\n",
    "\n",
    "Este notebook verifica que nuestro entorno virtual está correctamente configurado con todas las librerías necesarias para nuestro plan de estudios de Python.\n",
    "\n",
    "## 📚 Objetivos de esta verificación:\n",
    "1. ✅ Confirmar que Jupyter Notebook funciona correctamente\n",
    "2. ✅ Verificar que las librerías principales están instaladas\n",
    "3. ✅ Probar importaciones básicas\n",
    "4. ✅ Crear nuestro primer gráfico de ejemplo"
   ]
  },
  {
   "cell_type": "markdown",
   "id": "b4b9dfbe",
   "metadata": {},
   "source": [
    "## 🔧 Paso 1: Verificar Entorno Virtual\n",
    "\n",
    "Primero vamos a verificar que nuestro entorno virtual está activo y funcionando correctamente."
   ]
  },
  {
   "cell_type": "code",
   "execution_count": null,
   "id": "abfce115",
   "metadata": {},
   "outputs": [],
   "source": [
    "# Verificar versión de Python\n",
    "import sys\n",
    "print(f\"🐍 Versión de Python: {sys.version}\")\n",
    "print(f\"📍 Ejecutable de Python: {sys.executable}\")\n",
    "print(f\"📁 Ruta de Python: {sys.path[0]}\")\n",
    "\n",
    "# Verificar que estamos en el entorno virtual correcto\n",
    "if 'practicas_python' in sys.executable:\n",
    "    print(\"✅ Estamos ejecutando desde el entorno virtual correcto\")\n",
    "else:\n",
    "    print(\"⚠️  Verificar si el entorno virtual está activado\")"
   ]
  },
  {
   "cell_type": "markdown",
   "id": "5539f18c",
   "metadata": {},
   "source": [
    "## 📦 Paso 2: Verificar Librerías Principales\n",
    "\n",
    "Ahora vamos a importar y verificar que todas las librerías clave para nuestro plan de estudios están instaladas correctamente."
   ]
  },
  {
   "cell_type": "code",
   "execution_count": null,
   "id": "4a7e6b18",
   "metadata": {},
   "outputs": [],
   "source": [
    "# Diccionario de librerías a verificar\n",
    "libraries = {\n",
    "    'numpy': 'Cálculos numéricos y arrays',\n",
    "    'pandas': 'Análisis y manipulación de datos',\n",
    "    'matplotlib': 'Visualización de datos (gráficos)',\n",
    "    'flask': 'Desarrollo web y APIs',\n",
    "    'pymodbus': 'Comunicación industrial',\n",
    "    'tkinter': 'Interfaces gráficas (GUI)'\n",
    "}\n",
    "\n",
    "print(\"🔍 Verificando librerías instaladas:\\n\")\n",
    "\n",
    "for lib, description in libraries.items():\n",
    "    try:\n",
    "        if lib == 'tkinter':\n",
    "            import tkinter\n",
    "            version = tkinter.TkVersion\n",
    "        else:\n",
    "            module = __import__(lib)\n",
    "            version = getattr(module, '__version__', 'Versión no disponible')\n",
    "        \n",
    "        print(f\"✅ {lib:12} v{version:15} - {description}\")\n",
    "    except ImportError:\n",
    "        print(f\"❌ {lib:12} {'NO INSTALADA':15} - {description}\")\n",
    "    except Exception as e:\n",
    "        print(f\"⚠️  {lib:12} {'ERROR':15} - {description} ({str(e)})\")\n",
    "\n",
    "print(f\"\\n🎉 ¡Verificación completada!\")"
   ]
  },
  {
   "cell_type": "markdown",
   "id": "a7d1e3b2",
   "metadata": {},
   "source": [
    "## 📊 Paso 3: Crear Nuestro Primer Gráfico\n",
    "\n",
    "Vamos a crear un gráfico simple para verificar que Matplotlib funciona correctamente. Este será nuestro primer ejemplo práctico."
   ]
  },
  {
   "cell_type": "code",
   "execution_count": null,
   "id": "f1dd4d31",
   "metadata": {},
   "outputs": [],
   "source": [
    "# Importar librerías para visualización\n",
    "import matplotlib.pyplot as plt\n",
    "import numpy as np\n",
    "\n",
    "# Crear datos de ejemplo para nuestro plan de estudios\n",
    "semanas = ['Sem 1-4', 'Sem 5-8', 'Sem 9-14', 'Sem 15-24', 'Sem 25+']\n",
    "temas_aprendidos = [10, 25, 45, 75, 100]\n",
    "\n",
    "# Crear el gráfico\n",
    "plt.figure(figsize=(10, 6))\n",
    "plt.plot(semanas, temas_aprendidos, marker='o', linewidth=3, markersize=8, color='#2E86AB')\n",
    "plt.fill_between(semanas, temas_aprendidos, alpha=0.3, color='#A23B72')\n",
    "\n",
    "# Personalizar el gráfico\n",
    "plt.title('🚀 Plan de Estudios Python - Progreso Esperado', fontsize=16, fontweight='bold')\n",
    "plt.xlabel('Fases del Plan de Estudios', fontsize=12)\n",
    "plt.ylabel('Conocimiento Acumulado (%)', fontsize=12)\n",
    "plt.grid(True, alpha=0.3)\n",
    "plt.ylim(0, 110)\n",
    "\n",
    "# Agregar anotaciones\n",
    "for i, valor in enumerate(temas_aprendidos):\n",
    "    plt.annotate(f'{valor}%', (i, valor), textcoords=\"offset points\", \n",
    "                xytext=(0,10), ha='center', fontweight='bold')\n",
    "\n",
    "plt.tight_layout()\n",
    "plt.show()\n",
    "\n",
    "print(\"🎉 ¡Gráfico creado exitosamente! Matplotlib está funcionando correctamente.\")"
   ]
  },
  {
   "cell_type": "markdown",
   "id": "4618081e",
   "metadata": {},
   "source": [
    "## 🎯 Conclusión\n",
    "\n",
    "¡Felicidades José! Si has llegado hasta aquí y todas las verificaciones fueron exitosas, significa que tienes:\n",
    "\n",
    "### ✅ **Entorno Completamente Configurado:**\n",
    "- 🐍 Python 3.13.2 en entorno virtual\n",
    "- 📓 Jupyter Notebook funcionando\n",
    "- 📦 Todas las librerías principales instaladas\n",
    "- 📊 Matplotlib creando gráficos correctamente\n",
    "\n",
    "### 🚀 **Próximos Pasos:**\n",
    "1. **Confirmar consolidación** de este tema\n",
    "2. **Crear primer temario** de Python: Tipos de Datos y Variables\n",
    "3. **Comenzar práctica** sistemática siguiendo nuestra metodología\n",
    "\n",
    "---\n",
    "\n",
    "**📝 Recuerda:** Este notebook será parte de nuestro historial de aprendizaje. ¡Guárdalo en Git cuando estés listo!"
   ]
  }
 ],
 "metadata": {
  "language_info": {
   "name": "python"
  }
 },
 "nbformat": 4,
 "nbformat_minor": 5
}
