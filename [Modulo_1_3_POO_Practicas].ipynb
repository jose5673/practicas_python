{
 "cells": [
  {
   "cell_type": "markdown",
   "id": "1951c3f1",
   "metadata": {},
   "source": [
    "# Módulo 1.3: Programación Orientada a Objetos (POO) - Prácticas\n",
    "## Cuaderno de Ejercicios Prácticos"
   ]
  },
  {
   "cell_type": "markdown",
   "id": "122b70d2",
   "metadata": {},
   "source": [
    "**Instrucciones:**\n",
    "1. Lee atentamente cada ejercicio.\n",
    "2. Escribe el código en la celda correspondiente para resolver el problema.\n",
    "3. Ejecuta tu código para verificar el resultado.\n",
    "4. Compara tu solución con la propuesta más abajo.\n",
    "**¡No mires la solución antes de intentarlo!** El objetivo es que practiques y pongas a prueba tus conocimientos."
   ]
  },
  {
   "cell_type": "markdown",
   "id": "831b7e31",
   "metadata": {},
   "source": [
    "### Ejercicio 1: Clase `Sensor`\n",
    "**Objetivo:** Crear una clase básica para representar un sensor industrial."
   ]
  },
  {
   "cell_type": "markdown",
   "id": "e120bc20",
   "metadata": {},
   "source": [
    "**Enunciado:**\n",
    "Crea una clase llamada `Sensor`.\n",
    "1. El constructor `__init__` debe recibir `id_sensor`, `tipo` (ej. \"Temperatura\", \"Presión\"), y `unidad_medida` (ej. \"°C\", \"PSI\").\n",
    "2. La clase debe tener un atributo de instancia `valor_actual` inicializado en `None`. \n",
    "3. Añade un método `leer_valor()` que simule la lectura de un sensor. Debe generar un número aleatorio (puedes usar `random.uniform(min, max)`) y almacenarlo en `valor_actual`. Para un sensor de temperatura, un rango podría ser de 20 a 30 °C. Para uno de presión, de 14 a 16 PSI.\n",
    "4. Añade un método `mostrar_estado()` que imprima de forma clara el ID del sensor, su tipo, y su valor actual con su unidad de medida.\n",
    "5. Crea dos instancias de la clase: un sensor de temperatura y otro de presión. Llama a sus métodos para leer un valor y mostrar su estado."
   ]
  },
  {
   "cell_type": "code",
   "execution_count": null,
   "id": "a6efc43b",
   "metadata": {},
   "outputs": [],
   "source": [
    "# Escribe aquí tu código para el Ejercicio 1\n",
    "import random\n",
    "\n",
    "# ... tu implementación aquí"
   ]
  },
  {
   "cell_type": "markdown",
   "id": "a0a69524",
   "metadata": {},
   "source": [
    "#### Solución Propuesta - Ejercicio 1"
   ]
  },
  {
   "cell_type": "code",
   "execution_count": null,
   "id": "e4941b04",
   "metadata": {},
   "outputs": [],
   "source": [
    "import random\n",
    "\n",
    "class Sensor:\n",
    "    def __init__(self, id_sensor, tipo, unidad_medida):\n",
    "        self.id_sensor = id_sensor\n",
    "        self.tipo = tipo\n",
    "        self.unidad_medida = unidad_medida\n",
    "        self.valor_actual = None\n",
    "\n",
    "    def leer_valor(self):\n",
    "        if self.tipo == \"Temperatura\":\n",
    "            self.valor_actual = random.uniform(20.0, 30.0)\n",
    "        elif self.tipo == \"Presión\":\n",
    "            self.valor_actual = random.uniform(14.0, 16.0)\n",
    "        else:\n",
    "            self.valor_actual = random.uniform(0.0, 100.0) # Rango por defecto\n",
    "\n",
    "    def mostrar_estado(self):\n",
    "        if self.valor_actual is not None:\n",
    "            print(f\"Sensor ID: {self.id_sensor} | Tipo: {self.tipo} | Valor: {self.valor_actual:.2f} {self.unidad_medida}\")\n",
    "        else:\n",
    "            print(f\"Sensor ID: {self.id_sensor} | Tipo: {self.tipo} | Valor: Aún no leído\")\n",
    "\n",
    "# Creación de instancias\n",
    "sensor_temp_1 = Sensor(\"TEMP-001\", \"Temperatura\", \"°C\")\n",
    "sensor_pres_1 = Sensor(\"PRES-001\", \"Presión\", \"PSI\")\n",
    "\n",
    "# Lectura y muestra de estado\n",
    "sensor_temp_1.mostrar_estado()\n",
    "sensor_temp_1.leer_valor()\n",
    "sensor_temp_1.mostrar_estado()\n",
    "\n",
    "sensor_pres_1.mostrar_estado()\n",
    "sensor_pres_1.leer_valor()\n",
    "sensor_pres_1.mostrar_estado()"
   ]
  },
  {
   "cell_type": "markdown",
   "id": "2adf289c",
   "metadata": {},
   "source": [
    "### Ejercicio 2: Herencia - Clase `Actuador`\n",
    "**Objetivo:** Aplicar el concepto de herencia para crear una clase especializada."
   ]
  },
  {
   "cell_type": "markdown",
   "id": "da329d16",
   "metadata": {},
   "source": [
    "**Enunciado:**\n",
    "1. Crea una clase base llamada `ComponenteIndustrial` con un constructor que reciba `id_componente` y `fabricante`. Debe tener un método `mostrar_info()` que imprima estos dos atributos.\n",
    "2. Crea una clase `Actuador` que herede de `ComponenteIndustrial`.\n",
    "3. El constructor de `Actuador` debe aceptar `id_componente`, `fabricante` y `tipo_actuador` (ej. \"Válvula\", \"Motor\"). Debe llamar al constructor de la clase padre (`super().__init__(...)`).\n",
    "4. La clase `Actuador` debe tener un atributo de estado, `activado`, inicializado en `False`.\n",
    "5. Añade dos métodos a `Actuador`: `activar()` que cambia el estado a `True` y `desactivar()` que lo cambia a `False`. Ambos deben imprimir un mensaje indicando la acción.\n",
    "6. Sobrescribe el método `mostrar_info()` en `Actuador` para que, además de la información del componente, muestre el tipo de actuador y su estado actual (\"Activado\" o \"Desactivado\").\n",
    "7. Crea una instancia de `Actuador` (una válvula, por ejemplo), actívala y muestra su información."
   ]
  },
  {
   "cell_type": "code",
   "execution_count": null,
   "id": "235113d9",
   "metadata": {},
   "outputs": [],
   "source": [
    "# Escribe aquí tu código para el Ejercicio 2\n",
    "\n",
    "# ... tu implementación aquí"
   ]
  },
  {
   "cell_type": "markdown",
   "id": "6d96c95f",
   "metadata": {},
   "source": [
    "#### Solución Propuesta - Ejercicio 2"
   ]
  },
  {
   "cell_type": "code",
   "execution_count": null,
   "id": "8adbb44f",
   "metadata": {},
   "outputs": [],
   "source": [
    "class ComponenteIndustrial:\n",
    "    def __init__(self, id_componente, fabricante):\n",
    "        self.id_componente = id_componente\n",
    "        self.fabricante = fabricante\n",
    "\n",
    "    def mostrar_info(self):\n",
    "        print(f\"ID: {self.id_componente} | Fabricante: {self.fabricante}\")\n",
    "\n",
    "class Actuador(ComponenteIndustrial):\n",
    "    def __init__(self, id_componente, fabricante, tipo_actuador):\n",
    "        super().__init__(id_componente, fabricante)\n",
    "        self.tipo_actuador = tipo_actuador\n",
    "        self.activado = False\n",
    "\n",
    "    def activar(self):\n",
    "        self.activado = True\n",
    "        print(f\"{self.tipo_actuador} {self.id_componente} ha sido activado.\")\n",
    "\n",
    "    def desactivar(self):\n",
    "        self.activado = False\n",
    "        print(f\"{self.tipo_actuador} {self.id_componente} ha sido desactivado.\")\n",
    "\n",
    "    def mostrar_info(self):\n",
    "        super().mostrar_info() # Llama al método del padre\n",
    "        estado = \"Activado\" if self.activado else \"Desactivado\"\n",
    "        print(f\"Tipo: {self.tipo_actuador} | Estado: {estado}\")\n",
    "\n",
    "# Creación de instancia\n",
    "valvula_proceso_1 = Actuador(\"VALV-001\", \"Siemens\", \"Válvula de Control\")\n",
    "\n",
    "# Uso de métodos\n",
    "valvula_proceso_1.mostrar_info()\n",
    "print(\"-\"*20)\n",
    "valvula_proceso_1.activar()\n",
    "valvula_proceso_1.mostrar_info()\n",
    "print(\"-\"*20)\n",
    "valvula_proceso_1.desactivar()\n",
    "valvula_proceso_1.mostrar_info()"
   ]
  },
  {
   "cell_type": "markdown",
   "id": "f2c99822",
   "metadata": {},
   "source": [
    "### Ejercicio 3: Polimorfismo y Composición\n",
    "**Objetivo:** Utilizar polimorfismo para manejar diferentes tipos de componentes y composición para construir un sistema complejo."
   ]
  },
  {
   "cell_type": "markdown",
   "id": "c5f2e193",
   "metadata": {},
   "source": [
    "**Enunciado:**\n",
    "1. Reutiliza las clases `Sensor` (del Ej. 1) y `Actuador` (del Ej. 2, junto con su padre `ComponenteIndustrial`).\n",
    "2. Crea una nueva clase `ControladorPLC`.\n",
    "3. El constructor del `ControladorPLC` debe recibir un `id_controlador` y debe inicializar una lista vacía llamada `componentes`.\n",
    "4. Crea un método `agregar_componente(self, componente)` que permita añadir objetos (sensores o actuadores) a la lista `componentes`.\n",
    "5. Crea un método `revisar_sistema()` que itere sobre la lista `componentes`. Para cada componente, debe llamar a su método `mostrar_info()` (o `mostrar_estado()` para el sensor). Este es el núcleo del polimorfismo: llamas a un método con el mismo nombre (o similar) en objetos de diferentes clases.\n",
    "6. **(Opcional Avanzado)** Modifica la clase `Sensor` para que también herede de `ComponenteIndustrial` y estandariza el método a `mostrar_info()` en todas las clases para un polimorfismo más limpio.\n",
    "7. Crea una instancia de `ControladorPLC`. Crea varias instancias de `Sensor` y `Actuador` y agrégalas al controlador. Finalmente, llama a `revisar_sistema()` para ver el estado de toda la planta."
   ]
  },
  {
   "cell_type": "code",
   "execution_count": null,
   "id": "3ddb3d83",
   "metadata": {},
   "outputs": [],
   "source": [
    "# Escribe aquí tu código para el Ejercicio 3\n",
    "# (Puedes copiar las clases de los ejercicios anteriores y modificarlas si es necesario)\n",
    "\n",
    "# ... tu implementación aquí"
   ]
  },
  {
   "cell_type": "markdown",
   "id": "5383a4e1",
   "metadata": {},
   "source": [
    "#### Solución Propuesta - Ejercicio 3 (con el opcional implementado)"
   ]
  },
  {
   "cell_type": "code",
   "execution_count": null,
   "id": "74ae7218",
   "metadata": {},
   "outputs": [],
   "source": [
    "import random\n",
    "\n",
    "# --- Clases Base y Modificadas ---\n",
    "\n",
    "class ComponenteIndustrial:\n",
    "    def __init__(self, id_componente, fabricante):\n",
    "        self.id_componente = id_componente\n",
    "        self.fabricante = fabricante\n",
    "\n",
    "    def mostrar_info(self):\n",
    "        print(f\"ID: {self.id_componente} | Fabricante: {self.fabricante}\")\n",
    "\n",
    "class Sensor(ComponenteIndustrial):\n",
    "    def __init__(self, id_componente, fabricante, tipo, unidad_medida):\n",
    "        super().__init__(id_componente, fabricante)\n",
    "        self.tipo = tipo\n",
    "        self.unidad_medida = unidad_medida\n",
    "        self.valor_actual = None\n",
    "\n",
    "    def leer_valor(self):\n",
    "        if self.tipo == \"Temperatura\": self.valor_actual = random.uniform(20.0, 30.0)\n",
    "        elif self.tipo == \"Presión\": self.valor_actual = random.uniform(14.0, 16.0)\n",
    "        else: self.valor_actual = random.uniform(0.0, 100.0)\n",
    "\n",
    "    def mostrar_info(self): # Método estandarizado\n",
    "        super().mostrar_info()\n",
    "        if self.valor_actual is not None:\n",
    "            print(f\"  -> Tipo: {self.tipo} | Valor: {self.valor_actual:.2f} {self.unidad_medida}\")\n",
    "        else:\n",
    "            print(f\"  -> Tipo: {self.tipo} | Valor: Aún no leído\")\n",
    "\n",
    "class Actuador(ComponenteIndustrial):\n",
    "    def __init__(self, id_componente, fabricante, tipo_actuador):\n",
    "        super().__init__(id_componente, fabricante)\n",
    "        self.tipo_actuador = tipo_actuador\n",
    "        self.activado = False\n",
    "\n",
    "    def activar(self): self.activado = True\n",
    "    def desactivar(self): self.activado = False\n",
    "\n",
    "    def mostrar_info(self): # Método estandarizado\n",
    "        super().mostrar_info()\n",
    "        estado = \"Activado\" if self.activado else \"Desactivado\"\n",
    "        print(f\"  -> Tipo: {self.tipo_actuador} | Estado: {estado}\")\n",
    "\n",
    "# --- Clase de Composición ---\n",
    "\n",
    "class ControladorPLC:\n",
    "    def __init__(self, id_controlador):\n",
    "        self.id_controlador = id_controlador\n",
    "        self.componentes = []\n",
    "\n",
    "    def agregar_componente(self, componente):\n",
    "        if isinstance(componente, ComponenteIndustrial):\n",
    "            self.componentes.append(componente)\n",
    "            print(f\"Componente {componente.id_componente} agregado al PLC {self.id_controlador}\")\n",
    "        else:\n",
    "            print(\"Error: Solo se pueden agregar objetos de tipo ComponenteIndustrial\")\n",
    "\n",
    "    def revisar_sistema(self):\n",
    "        print(f\"\n",
    "--- REVISIÓN DEL SISTEMA DEL PLC: {self.id_controlador} ---\")\n",
    "        for componente in self.componentes:\n",
    "            componente.mostrar_info()\n",
    "            print(\"-\"*30)\n",
    "        print(\"--- FIN DE LA REVISIÓN ---\n",
    "\")\n",
    "\n",
    "# --- Simulación ---\n",
    "\n",
    "# 1. Crear el controlador\n",
    "plc_principal = ControladorPLC(\"PLC-S7-1500\")\n",
    "\n",
    "# 2. Crear componentes\n",
    "sensor_tanque_1 = Sensor(\"SEN-T-01\", \"Endress+Hauser\", \"Temperatura\", \"°C\")\n",
    "actuador_valvula_1 = Actuador(\"ACT-V-01\", \"Festo\", \"Válvula Neumática\")\n",
    "sensor_presion_1 = Sensor(\"SEN-P-01\", \"WIKA\", \"Presión\", \"bar\")\n",
    "actuador_motor_1 = Actuador(\"ACT-M-01\", \"SEW-Eurodrive\", \"Motor Trifásico\")\n",
    "\n",
    "# 3. Leer valores iniciales de sensores\n",
    "sensor_tanque_1.leer_valor()\n",
    "sensor_presion_1.leer_valor()\n",
    "\n",
    "# 4. Cambiar estado de un actuador\n",
    "actuador_motor_1.activar()\n",
    "\n",
    "# 5. Agregar componentes al PLC\n",
    "plc_principal.agregar_componente(sensor_tanque_1)\n",
    "plc_principal.agregar_componente(actuador_valvula_1)\n",
    "plc_principal.agregar_componente(sensor_presion_1)\n",
    "plc_principal.agregar_componente(actuador_motor_1)\n",
    "\n",
    "# 6. Revisar el estado de todo el sistema\n",
    "plc_principal.revisar_sistema()"
   ]
  },
  {
   "cell_type": "markdown",
   "id": "836e7bf8",
   "metadata": {},
   "source": [
    "### Validación de Aprendizaje\n",
    "Una vez que hayas completado y entendido los ejercicios, reflexiona sobre las siguientes preguntas:\n",
    "1. ¿Cuál es la diferencia fundamental entre un atributo de clase y un atributo de instancia?\n",
    "2. ¿Por qué es útil usar `super().__init__()` en una clase hija?\n",
    "3. ¿Cómo el polimorfismo (usar `componente.mostrar_info()` en el `ControladorPLC`) simplifica el código y lo hace más mantenible?\n",
    "4. ¿Qué ventajas ofrece la composición (el PLC *tiene* componentes) sobre la herencia en este escenario?\n",
    "\n",
    "---"
   ]
  },
  {
   "cell_type": "markdown",
   "id": "1ff1c708",
   "metadata": {},
   "source": [
    "**Cuando te sientas cómodo con estos conceptos y hayas completado los ejercicios, por favor, avísame para continuar con el siguiente tema del plan de estudios.**"
   ]
  }
 ],
 "metadata": {
  "language_info": {
   "name": "python"
  }
 },
 "nbformat": 4,
 "nbformat_minor": 5
}
