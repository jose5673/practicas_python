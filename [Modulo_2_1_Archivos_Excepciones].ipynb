{
 "cells": [
  {
   "cell_type": "markdown",
   "id": "b86ff071",
   "metadata": {},
   "source": [
    "# Módulo 2.1: Manejo de Archivos y Excepciones\n",
    "\n",
    "## Python para Automatización Industrial\n",
    "\n",
    "---\n",
    "\n",
    "### Objetivo\n",
    "Dominar el manejo de errores, archivos y registros en Python, aplicando buenas prácticas industriales.\n",
    "\n",
    "---\n",
    "\n",
    "### ¿Por qué este módulo es fundamental?\n",
    "\n",
    "En la automatización industrial, la robustez y la trazabilidad son esenciales. Un error no controlado puede detener una planta, perder datos críticos o incluso poner en riesgo la seguridad. Aprenderás a:\n",
    "\n",
    "- **Detectar y manejar errores** antes de que se conviertan en fallos graves.\n",
    "- **Registrar eventos y datos** de forma profesional y auditable.\n",
    "- **Guardar y recuperar configuraciones** de manera estructurada y segura.\n",
    "\n",
    "> ⚙️ **Analogía:** Piensa en el manejo de excepciones como el sistema de alarmas y paradas de emergencia de una fábrica: no evitan que ocurran problemas, pero permiten reaccionar rápido y seguro.\n",
    "\n",
    "---\n",
    "\n",
    "### Estructura del módulo\n",
    "\n",
    "1. **Manejo de Excepciones:** Cómo anticipar, capturar y registrar errores.\n",
    "2. **Archivos de Texto:** Guardar y leer información persistente.\n",
    "3. **Datos Estructurados (JSON/CSV):** Intercambio y almacenamiento profesional de datos.\n",
    "4. **Logging:** Bitácora y trazabilidad de eventos.\n",
    "5. **Buenas prácticas, advertencias y autoevaluación.**\n",
    "\n",
    "---\n",
    "\n",
    "> 🏭 **Aplicación real:** Un sistema SCADA, un PLC o cualquier software industrial debe ser capaz de registrar cada evento, error y dato relevante para auditoría, mantenimiento y mejora continua."
   ]
  },
  {
   "cell_type": "markdown",
   "id": "a5b3ea3b",
   "metadata": {},
   "source": [
    "## 1. Manejo de Excepciones (La Red de Seguridad)\n",
    "\n",
    "**¿Por qué es vital?**\n",
    "En la industria, un error no controlado puede detener procesos críticos, dañar equipos o poner en riesgo la seguridad de personas y activos.\n",
    "\n",
    "> ⚠️ **Advertencia real:** Un error no capturado en la lectura de un sensor de presión puede hacer que el sistema ignore una sobrepresión peligrosa.\n",
    "\n",
    "**Analogía:**\n",
    "El manejo de excepciones es como el sistema de paradas de emergencia de una planta: no evitas el problema, pero evitas el desastre.\n",
    "\n",
    "**Preguntas para motivarte:**\n",
    "- ¿Qué pasaría si tu software industrial se detuviera por un error inesperado?\n",
    "- ¿Cómo podrías anticipar y registrar fallos para mejorar la confiabilidad?\n",
    "\n",
    "**Ejemplo básico:**\n",
    "```python\n",
    "try:\n",
    "    # código que puede generar una excepción\n",
    "except Exception as e:\n",
    "    # código que maneja la excepción\n",
    "```"
   ]
  },
  {
   "cell_type": "code",
   "execution_count": null,
   "id": "84a60174",
   "metadata": {},
   "outputs": [],
   "source": [
    "try:\n",
    "    resultado = 10 / 0\n",
    "except ZeroDivisionError as e:\n",
    "    print(f'❌ Error: {e}')"
   ]
  },
  {
   "cell_type": "markdown",
   "id": "787a0cd3",
   "metadata": {},
   "source": [
    "**Bloque try...except, else y finally:**"
   ]
  },
  {
   "cell_type": "code",
   "execution_count": null,
   "id": "f0b93195",
   "metadata": {},
   "outputs": [],
   "source": [
    "try:\n",
    "    archivo = open('no_existe.txt', 'r')\n",
    "except FileNotFoundError as e:\n",
    "    print(f'❌ Archivo no encontrado: {e}')\n",
    "else:\n",
    "    print('✅ Archivo abierto correctamente')\n",
    "    archivo.close()\n",
    "finally:\n",
    "    print('🔔 Fin del intento de abrir archivo')"
   ]
  },
  {
   "cell_type": "markdown",
   "id": "c17b5894",
   "metadata": {},
   "source": [
    "**Captura de múltiples excepciones y personalizadas:**"
   ]
  },
  {
   "cell_type": "code",
   "execution_count": null,
   "id": "fc442649",
   "metadata": {},
   "outputs": [],
   "source": [
    "def leer_presion(valor):\n",
    "    if valor < 0:\n",
    "        raise ValueError('La presión no puede ser negativa')\n",
    "    return valor\n",
    "\n",
    "try:\n",
    "    x = int(input('Introduce un número: '))\n",
    "    y = 10 / x\n",
    "    leer_presion(-5)\n",
    "except ValueError as e:\n",
    "    print(f'❌ Error de valor: {e}')\n",
    "except ZeroDivisionError:\n",
    "    print('❌ No se puede dividir por cero.')"
   ]
  },
  {
   "cell_type": "markdown",
   "id": "a3ee08f0",
   "metadata": {},
   "source": [
    "### Preguntas de reflexión\n",
    "- ¿Por qué es mejor registrar el error que solo mostrarlo por pantalla?\n",
    "- ¿Qué pasaría si no capturamos la excepción?\n",
    "- ¿Cómo comunicarías un error crítico a un operador en una planta?\n",
    "- ¿Qué diferencia hay entre capturar una excepción específica y capturar todas?\n",
    "- ¿Por qué es importante documentar los errores en sistemas industriales?\n",
    "\n",
    "> 🏭 **Recuerda:** En la industria, cada error registrado es una oportunidad de mejora y prevención de incidentes futuros."
   ]
  },
  {
   "cell_type": "markdown",
   "id": "1950d3dd",
   "metadata": {},
   "source": [
    "## 2. Manejo de Archivos (La Memoria Persistente)\n",
    "\n",
    "**Lectura y escritura segura:**"
   ]
  },
  {
   "cell_type": "code",
   "execution_count": null,
   "id": "7e576763",
   "metadata": {},
   "outputs": [],
   "source": [
    "with open('ejemplo.txt', 'w') as f:\n",
    "    f.write('Línea 1\\nLínea 2\\n')\n",
    "\n",
    "with open('ejemplo.txt', 'r') as f:\n",
    "    for linea in f:\n",
    "        print(f'➡️ {linea.strip()}')"
   ]
  },
  {
   "cell_type": "markdown",
   "id": "08dc7f5c",
   "metadata": {},
   "source": [
    "**Uso de pathlib para rutas multiplataforma:**"
   ]
  },
  {
   "cell_type": "code",
   "execution_count": null,
   "id": "d2a1b746",
   "metadata": {},
   "outputs": [],
   "source": [
    "from pathlib import Path\n",
    "ruta = Path('ejemplo.txt')\n",
    "print(f'📁 Ruta absoluta: {ruta.resolve()}')"
   ]
  },
  {
   "cell_type": "markdown",
   "id": "7cf3015e",
   "metadata": {},
   "source": [
    "### Buenas prácticas y advertencias\n",
    "- Nunca sobrescribas archivos críticos sin backup.\n",
    "- Usa siempre `with` para abrir archivos (garantiza cierre seguro).\n",
    "- Verifica la existencia del archivo antes de escribir si es importante.\n",
    "- Documenta el formato y propósito de cada archivo que tu sistema genera.\n",
    "- Controla los permisos de acceso a archivos sensibles.\n",
    "\n",
    "**Errores comunes:**\n",
    "- Olvidar cerrar archivos (puede causar corrupción de datos).\n",
    "- No manejar excepciones al leer/escribir archivos (puede perderse información).\n",
    "- Sobrescribir accidentalmente archivos de configuración o históricos."
   ]
  },
  {
   "cell_type": "markdown",
   "id": "82cba663",
   "metadata": {},
   "source": [
    "## 3. Datos Estructurados: JSON y CSV\n",
    "\n",
    "**¿Por qué no usar solo TXT plano?**\n",
    "- Los datos estructurados (JSON, CSV) permiten interoperabilidad, validación y análisis automático.\n",
    "- Son el estándar para configuración, intercambio de datos y reportes en la industria.\n",
    "\n",
    "**JSON para configuración:**\n",
    "- Ideal para guardar parámetros, listas de sensores, rangos, etc.\n",
    "- Fácil de leer y modificar por humanos y máquinas.\n",
    "- ¡Cuidado! Si el archivo se corrompe, tu sistema puede fallar: siempre maneja excepciones al leer JSON.\n",
    "\n",
    "**CSV para registros:**\n",
    "- Perfecto para guardar históricos de mediciones, logs de eventos, reportes para Excel.\n",
    "- Cada fila es un registro, cada columna un dato.\n",
    "- Usa siempre encabezados claros y consistentes.\n",
    "\n",
    "> 🏭 **Ejemplo real:** Un sistema de monitoreo de temperatura puede guardar cada lectura en un CSV y cargar su configuración desde un JSON."
   ]
  },
  {
   "cell_type": "code",
   "execution_count": null,
   "id": "fa661c39",
   "metadata": {},
   "outputs": [],
   "source": [
    "import json\n",
    "config = {'sensor': 'temp1', 'rango': [0, 100]}\n",
    "with open('config.json', 'w') as f:\n",
    "    json.dump(config, f, indent=4)\n",
    "with open('config.json', 'r') as f:\n",
    "    datos = json.load(f)\n",
    "    print(f'🔧 Configuración cargada: {datos}')"
   ]
  },
  {
   "cell_type": "markdown",
   "id": "6a32075d",
   "metadata": {},
   "source": [
    "**CSV para registros:**"
   ]
  },
  {
   "cell_type": "code",
   "execution_count": null,
   "id": "fa5d73d0",
   "metadata": {},
   "outputs": [],
   "source": [
    "import csv\n",
    "datos = [['sensor', 'valor'], ['temp1', 23.5], ['pres1', 1.2]]\n",
    "with open('datos.csv', 'w', newline='') as f:\n",
    "    writer = csv.writer(f)\n",
    "    writer.writerows(datos)\n",
    "with open('datos.csv', 'r') as f:\n",
    "    reader = csv.reader(f)\n",
    "    for fila in reader:\n",
    "        print(f'📊 {fila}')"
   ]
  },
  {
   "cell_type": "markdown",
   "id": "57787f8b",
   "metadata": {},
   "source": [
    "## 4. Logging: La Bitácora Profesional\n",
    "\n",
    "**¿Por qué no usar solo print()?**\n",
    "- El logging permite registrar eventos con nivel de importancia, fecha y contexto.\n",
    "- Es fundamental para auditoría, diagnóstico y mantenimiento en sistemas industriales.\n",
    "\n",
    "**Analogía:**\n",
    "El logging es como la caja negra de un avión: todo queda registrado para análisis posterior.\n",
    "\n",
    "**Advertencias y mejores prácticas:**\n",
    "- Usa diferentes niveles (`INFO`, `WARNING`, `ERROR`, `CRITICAL`) según la gravedad.\n",
    "- Registra siempre el contexto: ¿qué ocurrió, dónde y cuándo?\n",
    "- No uses print para eventos importantes en producción: podrías perder información clave.\n",
    "- Configura el logging para guardar en archivos rotativos si el sistema estará mucho tiempo en operación.\n",
    "\n",
    "> 🏭 **Ejemplo real:** Un fallo de comunicación con un PLC debe quedar registrado como `ERROR` con fecha, hora y detalles técnicos."
   ]
  },
  {
   "cell_type": "code",
   "execution_count": null,
   "id": "ba080418",
   "metadata": {},
   "outputs": [],
   "source": [
    "import logging\n",
    "logging.basicConfig(filename='log.txt', level=logging.INFO,\n",
    "                    format='%(asctime)s %(levelname)s: %(message)s')\n",
    "logging.info('✅ Inicio del script')\n",
    "logging.warning('⚠️ Valor fuera de rango')\n",
    "logging.error('❌ Error de conexión con PLC')\n",
    "print('Consulta el archivo log.txt para ver los eventos registrados.')"
   ]
  },
  {
   "cell_type": "markdown",
   "id": "68b6ecb8",
   "metadata": {},
   "source": [
    "### Preguntas de reflexión\n",
    "- ¿Por qué es útil diferenciar los niveles de logging?\n",
    "- ¿Qué información mínima debe tener cada registro en un sistema industrial?\n",
    "- ¿Cómo te ayuda el logging a detectar patrones de fallos o eventos críticos?\n",
    "\n",
    "> 🏭 **Recuerda:** Un buen sistema de logging puede ser la diferencia entre resolver un problema en minutos o perder horas buscando la causa raíz."
   ]
  },
  {
   "cell_type": "markdown",
   "id": "eb8377ae",
   "metadata": {},
   "source": [
    "## 5. Autoevaluación rápida\n",
    "1. ¿Qué diferencia hay entre `except Exception` y `except ValueError`? ¿Cuándo usarías cada uno?\n",
    "2. ¿Por qué es preferible usar `with` para abrir archivos? ¿Qué problemas previene?\n",
    "3. ¿Cómo registrarías un error crítico en el log? Escribe un ejemplo.\n",
    "4. ¿Qué ventajas tiene usar JSON frente a TXT plano para configuraciones industriales?\n",
    "5. ¿Qué ocurre si abres un archivo en modo `'w'` y ya existe? ¿Cómo lo evitarías en un sistema crítico?\n",
    "6. ¿Cómo garantizarías la integridad de los datos históricos en un CSV?\n",
    "7. ¿Qué harías si tu sistema detecta un error inesperado en producción?\n",
    "\n",
    "> 🏭 **Desafío:** Piensa en un caso real de tu entorno donde un buen manejo de errores o logging hubiera evitado un problema grave."
   ]
  },
  {
   "cell_type": "markdown",
   "id": "0c825215",
   "metadata": {},
   "source": [
    "---\n",
    "\n",
    "Cuando te sientas cómodo con estos conceptos y hayas realizado las pruebas, avísame para avanzar al cuaderno de prácticas.\n",
    "\n",
    "> 🚦 **Recuerda:** La robustez y trazabilidad de tu software industrial depende de cómo manejes errores, archivos y registros. ¡Domina estas herramientas y tu código será confiable y profesional!\n",
    "\n",
    "> 🏭 **En la industria, cada línea de log y cada excepción bien gestionada es una inversión en seguridad, calidad y eficiencia.**"
   ]
  }
 ],
 "metadata": {
  "language_info": {
   "name": "python"
  }
 },
 "nbformat": 4,
 "nbformat_minor": 5
}
