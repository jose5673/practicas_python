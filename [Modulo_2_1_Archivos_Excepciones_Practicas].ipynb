{
 "cells": [
  {
   "cell_type": "markdown",
   "id": "ee62eba8",
   "metadata": {},
   "source": [
    "# Módulo 2.1: Manejo de Archivos y Excepciones — Prácticas\n",
    "\n",
    "## Cuaderno de Ejercicios Prácticos\n",
    "\n",
    "---\n",
    "\n",
    "### Instrucciones\n",
    "- Lee atentamente cada ejercicio.\n",
    "- Resuelve primero por tu cuenta antes de consultar la solución propuesta.\n",
    "- Ejecuta y experimenta con los ejemplos para afianzar tu comprensión.\n",
    "- Reflexiona sobre las preguntas de cada sección."
   ]
  },
  {
   "cell_type": "markdown",
   "id": "ef0cceee",
   "metadata": {},
   "source": [
    "## Ejercicio 1: Manejo de Excepciones en un Proceso Industrial\n",
    "\n",
    "**Enunciado:**\n",
    "Simula la lectura de un sensor de presión en una caldera. El usuario debe ingresar un valor. Si el valor es negativo o mayor a 20 bar, lanza una excepción personalizada. Registra el evento en un log y muestra un mensaje claro al operador."
   ]
  },
  {
   "cell_type": "code",
   "execution_count": null,
   "id": "576effdb",
   "metadata": {},
   "outputs": [],
   "source": [
    "import logging\n",
    "logging.basicConfig(filename='practica_log.txt', level=logging.INFO,\n",
    "                    format='%(asctime)s %(levelname)s: %(message)s')\n",
    "\n",
    "def leer_presion():\n",
    "    try:\n",
    "        valor = float(input(\"Introduce la presión de la caldera (bar): \"))\n",
    "        if valor < 0 or valor > 20:\n",
    "            raise ValueError(\"Presión fuera de rango seguro (0-20 bar)\")\n",
    "        print(f\"Presión registrada: {valor} bar\")\n",
    "        logging.info(f\"Presión registrada correctamente: {valor} bar\")\n",
    "    except ValueError as e:\n",
    "        print(f\"❌ Error: {e}\")\n",
    "        logging.error(f\"Lectura inválida: {e}\")\n",
    "    finally:\n",
    "        print(\"Fin del ciclo de lectura.\")\n",
    "\n",
    "# Prueba la función varias veces con valores válidos e inválidos."
   ]
  },
  {
   "cell_type": "markdown",
   "id": "e0428ef2",
   "metadata": {},
   "source": [
    "## Ejercicio 2: Escritura y Lectura Segura de Archivos\n",
    "\n",
    "**Enunciado:**\n",
    "Crea un archivo llamado `registro_temperaturas.csv` y guarda en él 5 lecturas simuladas de temperatura (puedes usar valores aleatorios entre 15 y 30°C). Luego, lee el archivo y muestra cada registro en pantalla."
   ]
  },
  {
   "cell_type": "code",
   "execution_count": null,
   "id": "8df3c841",
   "metadata": {},
   "outputs": [],
   "source": [
    "import csv\n",
    "import random\n",
    "\n",
    "# Escritura\n",
    "with open('registro_temperaturas.csv', 'w', newline='') as f:\n",
    "    writer = csv.writer(f)\n",
    "    writer.writerow([\"timestamp\", \"temperatura_C\"])\n",
    "    for _ in range(5):\n",
    "        temp = round(random.uniform(15, 30), 2)\n",
    "        from datetime import datetime\n",
    "        timestamp = datetime.now().strftime('%Y-%m-%d %H:%M:%S')\n",
    "        writer.writerow([timestamp, temp])\n",
    "\n",
    "# Lectura\n",
    "with open('registro_temperaturas.csv', 'r') as f:\n",
    "    reader = csv.reader(f)\n",
    "    for fila in reader:\n",
    "        print(fila)"
   ]
  },
  {
   "cell_type": "markdown",
   "id": "73b478e2",
   "metadata": {},
   "source": [
    "## Ejercicio 3: Configuración Industrial con JSON\n",
    "\n",
    "**Enunciado:**\n",
    "Crea un archivo `config_dispositivos.json` que contenga una lista de dispositivos industriales (ejemplo: sensores, actuadores) con sus parámetros principales. Luego, escribe un script que lea el archivo y muestre la información de cada dispositivo de forma clara."
   ]
  },
  {
   "cell_type": "code",
   "execution_count": null,
   "id": "7e3ed1cc",
   "metadata": {},
   "outputs": [],
   "source": [
    "import json\n",
    "\n",
    "# Escritura de configuración\n",
    "config = {\n",
    "    \"dispositivos\": [\n",
    "        {\"id\": \"SEN-01\", \"tipo\": \"sensor\", \"ubicacion\": \"Tanque 1\", \"rango\": [0, 100]},\n",
    "        {\"id\": \"ACT-01\", \"tipo\": \"actuador\", \"ubicacion\": \"Válvula principal\", \"estado\": \"apagado\"}\n",
    "    ]\n",
    "}\n",
    "with open('config_dispositivos.json', 'w') as f:\n",
    "    json.dump(config, f, indent=4)\n",
    "\n",
    "# Lectura y visualización\n",
    "with open('config_dispositivos.json', 'r') as f:\n",
    "    datos = json.load(f)\n",
    "    for disp in datos[\"dispositivos\"]:\n",
    "        print(f\"ID: {disp['id']} | Tipo: {disp['tipo']} | Ubicación: {disp['ubicacion']} | \" +\n",
    "              (f\"Rango: {disp['rango']}\" if 'rango' in disp else f\"Estado: {disp['estado']}\"))"
   ]
  },
  {
   "cell_type": "markdown",
   "id": "eb6b3ba4",
   "metadata": {},
   "source": [
    "## Ejercicio 4: Logging y Auditoría de Eventos\n",
    "\n",
    "**Enunciado:**\n",
    "Simula un proceso donde se registran eventos de inicio, advertencia y error en un archivo de log llamado `auditoria_eventos.log`. Usa diferentes niveles de logging y muestra cómo consultar el archivo para ver los eventos registrados."
   ]
  },
  {
   "cell_type": "code",
   "execution_count": null,
   "id": "313376ca",
   "metadata": {},
   "outputs": [],
   "source": [
    "import logging\n",
    "logging.basicConfig(filename='auditoria_eventos.log', level=logging.INFO,\n",
    "                    format='%(asctime)s %(levelname)s: %(message)s')\n",
    "\n",
    "logging.info('✅ Proceso iniciado')\n",
    "logging.warning('⚠️ Temperatura fuera de rango recomendado')\n",
    "logging.error('❌ Error de comunicación con PLC')\n",
    "\n",
    "with open('auditoria_eventos.log', 'r') as f:\n",
    "    for linea in f:\n",
    "        print(linea.strip())"
   ]
  },
  {
   "cell_type": "markdown",
   "id": "de452b38",
   "metadata": {},
   "source": [
    "## Desafío Final: Mini-Proyecto Integrador\n",
    "\n",
    "**Enunciado:**\n",
    "Desarrolla un script que:\n",
    "- Lea la configuración de sensores desde un archivo JSON.\n",
    "- Simule la lectura de valores (aleatorios) para cada sensor.\n",
    "- Registre cada lectura en un archivo CSV con timestamp.\n",
    "- Registre todos los eventos (inicio, lecturas, errores) en un log.\n",
    "- Maneje excepciones si algún valor simulado está fuera de rango.\n",
    "\n",
    "**Pistas:**\n",
    "- Usa try/except para validar los valores.\n",
    "- Usa logging para registrar eventos y errores.\n",
    "- Usa csv y json para los archivos.\n",
    "\n",
    "**¿Listo para el reto?**"
   ]
  }
 ],
 "metadata": {
  "language_info": {
   "name": "python"
  }
 },
 "nbformat": 4,
 "nbformat_minor": 5
}
