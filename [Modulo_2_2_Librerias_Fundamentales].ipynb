{
 "cells": [
  {
   "cell_type": "markdown",
   "id": "4e24b9bc",
   "metadata": {},
   "source": [
    "# Módulo 2.2: Librerías Fundamentales\n",
    "\n",
    "## Python para Automatización Industrial\n",
    "\n",
    "---\n",
    "\n",
    "### Objetivo\n",
    "Dominar las librerías esenciales de Python para crear aplicaciones industriales robustas, eficientes y profesionales.\n",
    "\n",
    "---\n",
    "\n",
    "### ¿Por qué estas librerías son fundamentales?\n",
    "\n",
    "En la automatización industrial, necesitas herramientas que te permitan:\n",
    "\n",
    "- **🕐 Gestionar tiempo y fechas** con precisión (timestamps, programación de tareas)\n",
    "- **📁 Interactuar con el sistema de archivos** (logs, backups, organización)\n",
    "- **🌐 Comunicarte con APIs y servicios externos** (datos meteorológicos, ERPs)\n",
    "- **⚡ Ejecutar procesos en paralelo** (monitoreo + control simultáneos)\n",
    "- **📊 Realizar cálculos matemáticos y estadísticos** (análisis de tendencias)\n",
    "\n",
    "> 🏭 **Aplicación real:** Un sistema SCADA moderno utiliza todas estas librerías: datetime para timestamps, pathlib para organizar logs, requests para APIs meteorológicas, threading para monitoreo paralelo, y statistics para detectar anomalías.\n",
    "\n",
    "---\n",
    "\n",
    "### Estructura del módulo\n",
    "\n",
    "1. **datetime:** La cronología industrial\n",
    "2. **os y pathlib:** El sistema de archivos como almacén\n",
    "3. **requests:** El puente hacia el mundo exterior\n",
    "4. **threading:** Paralelismo controlado\n",
    "5. **math y statistics:** Inteligencia de datos\n",
    "6. **enum:** Estados industriales bien definidos"
   ]
  },
  {
   "cell_type": "markdown",
   "id": "92735cf6",
   "metadata": {},
   "source": [
    "## 1. datetime: La Cronología Industrial\n",
    "\n",
    "**¿Por qué es VITAL en la industria?**\n",
    "\n",
    "🏭 En una planta química, cada evento debe tener timestamp preciso para auditorías.\n",
    "⚠️ Un error de 1 segundo en el registro puede significar millones en seguros.\n",
    "🔍 El análisis de tendencias temporales permite mantenimiento predictivo.\n",
    "\n",
    "> **Analogía:** El datetime es como el reloj maestro de una orquesta industrial."
   ]
  },
  {
   "cell_type": "code",
   "execution_count": null,
   "id": "161b3ccb",
   "metadata": {},
   "outputs": [],
   "source": [
    "from datetime import datetime, timedelta\n",
    "import time\n",
    "\n",
    "# Ejemplo 1: Registro de eventos con timestamp\n",
    "evento_inicio = datetime.now()\n",
    "print(f\"🕐 Proceso iniciado: {evento_inicio}\")\n",
    "print(f\"🕐 Formato ISO: {evento_inicio.isoformat()}\")\n",
    "print(f\"🕐 Formato personalizado: {evento_inicio.strftime('%d/%m/%Y %H:%M:%S')}\")\n",
    "\n",
    "# Ejemplo 2: Cálculo de duraciones (crucial para SLA industriales)\n",
    "time.sleep(2)  # Simula proceso\n",
    "evento_fin = datetime.now()\n",
    "duracion = evento_fin - evento_inicio\n",
    "print(f\"⏱️ Duración del proceso: {duracion.total_seconds():.2f} segundos\")\n",
    "\n",
    "# Ejemplo 3: Programación de mantenimientos\n",
    "proximo_mantenimiento = datetime.now() + timedelta(days=30, hours=8)\n",
    "print(f\"🔧 Próximo mantenimiento: {proximo_mantenimiento.strftime('%d/%m/%Y a las %H:%M')}\")"
   ]
  },
  {
   "cell_type": "markdown",
   "id": "2b25a597",
   "metadata": {},
   "source": [
    "### Buenas prácticas industriales:\n",
    "- ✅ Siempre usa UTC para sistemas distribuidos\n",
    "- ✅ Registra timezone si trabajas con múltiples ubicaciones\n",
    "- ⚠️ NUNCA uses solo time.time() para logs críticos (difícil de leer)\n",
    "\n",
    "### Preguntas de reflexión:\n",
    "- ¿Por qué es importante la trazabilidad temporal en auditoría industrial?\n",
    "- ¿Cómo garantizarías sincronización temporal entre múltiples sistemas?"
   ]
  },
  {
   "cell_type": "markdown",
   "id": "0d0909f2",
   "metadata": {},
   "source": [
    "## 2. os y pathlib: El Sistema de Archivos como Almacén\n",
    "\n",
    "**¿Por qué automatizar archivos en la industria?**\n",
    "\n",
    "🏭 Backups automáticos de configuraciones críticas\n",
    "📊 Organización de logs por fecha/turno/línea de producción  \n",
    "🗂️ Limpieza automática de archivos antiguos"
   ]
  },
  {
   "cell_type": "code",
   "execution_count": null,
   "id": "696d97ca",
   "metadata": {},
   "outputs": [],
   "source": [
    "import os\n",
    "from pathlib import Path\n",
    "\n",
    "# Ejemplo 1: Crear estructura de carpetas para logs diarios\n",
    "fecha_hoy = datetime.now().strftime('%Y-%m-%d')\n",
    "ruta_logs = Path(f\"logs/{fecha_hoy}\")\n",
    "ruta_logs.mkdir(parents=True, exist_ok=True)\n",
    "print(f\"📂 Carpeta creada: {ruta_logs}\")\n",
    "\n",
    "# Ejemplo 2: Listar archivos con filtros\n",
    "archivos_py = list(Path('.').glob('*.py'))\n",
    "print(f\"🐍 Archivos Python encontrados: {len(archivos_py)}\")\n",
    "for archivo in archivos_py[:3]:\n",
    "    print(f\"   📄 {archivo.name}\")\n",
    "\n",
    "# Ejemplo 3: Información del sistema\n",
    "print(f\"💻 Sistema operativo: {os.name}\")\n",
    "print(f\"📁 Directorio actual: {Path.cwd()}\")\n",
    "print(f\"👤 Usuario actual: {os.getenv('USERNAME', 'Desconocido')}\")"
   ]
  },
  {
   "cell_type": "markdown",
   "id": "5cbe9618",
   "metadata": {},
   "source": [
    "### Advertencias industriales:\n",
    "- ⚠️ NUNCA borres archivos sin confirmar la existencia de backups\n",
    "- ⚠️ Usa rutas absolutas para scripts críticos\n",
    "- ✅ Siempre maneja excepciones al crear/mover archivos\n",
    "\n",
    "### Pregunta de reflexión:\n",
    "- ¿Cómo garantizarías que tus scripts funcionen en Windows y Linux?"
   ]
  },
  {
   "cell_type": "markdown",
   "id": "b16bfc76",
   "metadata": {},
   "source": [
    "## 3. requests: El Puente hacia el Mundo Exterior\n",
    "\n",
    "**¿Por qué es clave en Industria 4.0?**\n",
    "\n",
    "🏭 APIs de proveedores de energía para optimizar consumo\n",
    "🌡️ APIs meteorológicas para ajustar procesos según clima\n",
    "📊 Comunicación con sistemas ERP/MES via REST"
   ]
  },
  {
   "cell_type": "code",
   "execution_count": null,
   "id": "2e14e8f6",
   "metadata": {},
   "outputs": [],
   "source": [
    "# Simulación de consulta a API meteorológica\n",
    "try:\n",
    "    print(\"🌤️ Consultando API del clima...\")\n",
    "    # En práctica real: respuesta = requests.get('https://api.clima.com/actual', timeout=5)\n",
    "    # Simulamos la respuesta:\n",
    "    temperatura_externa = 22.5\n",
    "    print(f\"🌡️ Temperatura externa: {temperatura_externa}°C\")\n",
    "    \n",
    "    # Lógica de negocio basada en clima\n",
    "    if temperatura_externa > 25:\n",
    "        print(\"❄️ Activando sistema de refrigeración adicional\")\n",
    "    else:\n",
    "        print(\"✅ Temperatura normal, sin acciones adicionales\")\n",
    "        \n",
    "except Exception as e:\n",
    "    print(f\"❌ Error al consultar API: {e}\")\n",
    "    print(\"🔄 Usando valores por defecto para continuar operación\")"
   ]
  },
  {
   "cell_type": "markdown",
   "id": "01b999aa",
   "metadata": {},
   "source": [
    "### Buenas prácticas para APIs industriales:\n",
    "- ✅ Siempre usa timeout para evitar bloqueos\n",
    "- ✅ Valida el status_code antes de procesar respuesta\n",
    "- ✅ Implementa reintentos con backoff exponencial\n",
    "- ⚠️ Ten siempre un plan B si la API falla\n",
    "\n",
    "### Pregunta de reflexión:\n",
    "- ¿Qué riesgos hay si tu sistema depende de una API externa?"
   ]
  },
  {
   "cell_type": "markdown",
   "id": "a1451cc0",
   "metadata": {},
   "source": [
    "## 4. threading: Paralelismo Controlado\n",
    "\n",
    "**¿Por qué paralelismo en la industria?**\n",
    "\n",
    "🏭 Monitorear sensores mientras se ejecutan procesos\n",
    "📊 Procesar datos mientras se recolectan nuevos\n",
    "🚨 Sistema de alarmas independiente del proceso principal"
   ]
  },
  {
   "cell_type": "code",
   "execution_count": null,
   "id": "6df5d22b",
   "metadata": {},
   "outputs": [],
   "source": [
    "import threading\n",
    "import time\n",
    "\n",
    "def monitorear_sensor(sensor_id, duracion=3):\n",
    "    \"\"\"Simula el monitoreo continuo de un sensor\"\"\"\n",
    "    for i in range(duracion):\n",
    "        valor = 20 + i * 2  # Simula lectura creciente\n",
    "        print(f\"📊 Sensor {sensor_id}: {valor}°C\")\n",
    "        time.sleep(1)\n",
    "    print(f\"✅ Monitoreo del sensor {sensor_id} completado\")\n",
    "\n",
    "def procesar_datos():\n",
    "    \"\"\"Simula procesamiento de datos en paralelo\"\"\"\n",
    "    print(\"⚙️ Iniciando procesamiento de datos...\")\n",
    "    time.sleep(2)\n",
    "    print(\"✅ Procesamiento completado\")\n",
    "\n",
    "# Ejecutar tareas en paralelo\n",
    "print(\"🚀 Iniciando monitoreo paralelo...\")\n",
    "hilo_sensor1 = threading.Thread(target=monitorear_sensor, args=(\"TEMP-01\", 3))\n",
    "hilo_sensor2 = threading.Thread(target=monitorear_sensor, args=(\"TEMP-02\", 3))\n",
    "hilo_procesamiento = threading.Thread(target=procesar_datos)\n",
    "\n",
    "# Iniciar todos los hilos\n",
    "hilo_sensor1.start()\n",
    "hilo_sensor2.start()\n",
    "hilo_procesamiento.start()\n",
    "\n",
    "# Esperar a que terminen todos\n",
    "hilo_sensor1.join()\n",
    "hilo_sensor2.join()\n",
    "hilo_procesamiento.join()\n",
    "\n",
    "print(\"🎯 Todas las tareas paralelas completadas\")"
   ]
  },
  {
   "cell_type": "markdown",
   "id": "fce55e14",
   "metadata": {},
   "source": [
    "### Advertencias sobre threading:\n",
    "- ⚠️ La concurrencia complica el debugging\n",
    "- ⚠️ Cuidado con recursos compartidos (usa locks si es necesario)\n",
    "- ✅ Úsalo para I/O bound tasks, no CPU intensive\n",
    "\n",
    "### Pregunta de reflexión:\n",
    "- ¿Cuándo es mejor usar procesos en vez de hilos?"
   ]
  },
  {
   "cell_type": "markdown",
   "id": "021685ce",
   "metadata": {},
   "source": [
    "## 5. math y statistics: Inteligencia de Datos\n",
    "\n",
    "**¿Por qué matemáticas en la industria?**\n",
    "\n",
    "📊 Análisis de tendencias para mantenimiento predictivo\n",
    "🔢 Cálculos de eficiencia energética\n",
    "📈 Control estadístico de procesos"
   ]
  },
  {
   "cell_type": "code",
   "execution_count": null,
   "id": "27ebebb0",
   "metadata": {},
   "outputs": [],
   "source": [
    "import math\n",
    "import statistics\n",
    "\n",
    "# Simulación: lecturas de un sensor de vibración\n",
    "lecturas_vibracion = [2.1, 2.3, 2.0, 2.4, 2.2, 2.8, 2.1, 2.5, 2.3, 2.6]\n",
    "\n",
    "# Análisis estadístico básico\n",
    "media = statistics.mean(lecturas_vibracion)\n",
    "mediana = statistics.median(lecturas_vibracion)\n",
    "desviacion = statistics.stdev(lecturas_vibracion)\n",
    "\n",
    "print(f\"📊 Análisis de vibraciones:\")\n",
    "print(f\"   📈 Media: {media:.2f} mm/s\")\n",
    "print(f\"   📊 Mediana: {mediana:.2f} mm/s\")\n",
    "print(f\"   📉 Desviación estándar: {desviacion:.2f} mm/s\")\n",
    "\n",
    "# Detección de anomalías (regla 3-sigma)\n",
    "limite_superior = media + 3 * desviacion\n",
    "limite_inferior = media - 3 * desviacion\n",
    "\n",
    "anomalias = [x for x in lecturas_vibracion if x > limite_superior or x < limite_inferior]\n",
    "if anomalias:\n",
    "    print(f\"🚨 ALARMA: Vibraciones anómalas detectadas: {anomalias}\")\n",
    "else:\n",
    "    print(\"✅ Todas las lecturas dentro de parámetros normales\")\n",
    "\n",
    "# Cálculos avanzados con math\n",
    "print(f\"📐 Cálculos adicionales:\")\n",
    "print(f\"   🔢 Raíz cuadrada de la media: {math.sqrt(media):.2f}\")\n",
    "print(f\"   📊 Logaritmo natural de la media: {math.log(media):.2f}\")"
   ]
  },
  {
   "cell_type": "markdown",
   "id": "07d12500",
   "metadata": {},
   "source": [
    "### Pregunta de reflexión:\n",
    "- ¿Por qué es útil analizar tendencias estadísticas en mantenimiento predictivo?"
   ]
  },
  {
   "cell_type": "markdown",
   "id": "7fd51e83",
   "metadata": {},
   "source": [
    "## 6. enum: Estados Industriales Bien Definidos\n",
    "\n",
    "**¿Por qué enums en la industria?**\n",
    "\n",
    "🏭 Estados claros y sin ambigüedad\n",
    "🔧 Modos de operación bien definidos\n",
    "⚠️ Prevención de errores por valores incorrectos"
   ]
  },
  {
   "cell_type": "code",
   "execution_count": null,
   "id": "11d76922",
   "metadata": {},
   "outputs": [],
   "source": [
    "from enum import Enum, auto\n",
    "\n",
    "class EstadoMotor(Enum):\n",
    "    APAGADO = 0\n",
    "    ENCENDIDO = 1\n",
    "    FALLA = 2\n",
    "    MANTENIMIENTO = 3\n",
    "\n",
    "class ModoOperacion(Enum):\n",
    "    AUTOMATICO = auto()\n",
    "    MANUAL = auto()\n",
    "    EMERGENCIA = auto()\n",
    "\n",
    "def evaluar_motor(estado_actual):\n",
    "    if estado_actual == EstadoMotor.APAGADO:\n",
    "        return \"⚫ Motor detenido - Seguro para mantenimiento\"\n",
    "    elif estado_actual == EstadoMotor.ENCENDIDO:\n",
    "        return \"🟢 Motor funcionando - Operación normal\"\n",
    "    elif estado_actual == EstadoMotor.FALLA:\n",
    "        return \"🔴 Motor en falla - Revisar inmediatamente\"\n",
    "    elif estado_actual == EstadoMotor.MANTENIMIENTO:\n",
    "        return \"🟡 Motor en mantenimiento - No operar\"\n",
    "\n",
    "# Simulación de estados\n",
    "motor_principal = EstadoMotor.ENCENDIDO\n",
    "modo_actual = ModoOperacion.AUTOMATICO\n",
    "\n",
    "print(f\"🏭 Estado del sistema:\")\n",
    "print(f\"   🔧 Motor: {evaluar_motor(motor_principal)}\")\n",
    "print(f\"   ⚙️ Modo: {modo_actual.name}\")"
   ]
  },
  {
   "cell_type": "markdown",
   "id": "6a390225",
   "metadata": {},
   "source": [
    "### Ventajas de usar enums:\n",
    "- ✅ Código más legible y mantenible\n",
    "- ✅ Autocompletado en IDEs\n",
    "- ✅ Imposible usar valores incorrectos\n",
    "\n",
    "### Pregunta de reflexión:\n",
    "- ¿Cómo usarías enums para modelar los estados de una máquina compleja?"
   ]
  },
  {
   "cell_type": "markdown",
   "id": "d83063ae",
   "metadata": {},
   "source": [
    "## Autoevaluación\n",
    "\n",
    "1. ¿Por qué es importante usar UTC en sistemas industriales distribuidos?\n",
    "2. ¿Qué ventajas tiene pathlib sobre os para manejo de rutas?\n",
    "3. ¿Cómo implementarías un sistema de reintentos para APIs críticas?\n",
    "4. ¿Cuándo usarías threading vs multiprocessing en automatización?\n",
    "5. ¿Qué estadísticas son más útiles para detectar fallos de equipos?\n",
    "6. ¿Cómo mejorarían los enums la mantenibilidad de tu código industrial?\n",
    "\n",
    "---\n",
    "\n",
    "Cuando domines estos conceptos y hayas experimentado con los ejemplos, avísame para continuar con el cuaderno de prácticas.\n",
    "\n",
    "> 🏭 **Recuerda:** Estas librerías son los cimientos sobre los que construirás sistemas industriales robustos y profesionales. ¡Domínalas y tu código será de nivel empresarial!"
   ]
  }
 ],
 "metadata": {
  "language_info": {
   "name": "python"
  }
 },
 "nbformat": 4,
 "nbformat_minor": 5
}
